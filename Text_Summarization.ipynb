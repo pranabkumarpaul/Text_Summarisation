{
 "cells": [
  {
   "cell_type": "markdown",
   "metadata": {},
   "source": [
    "# Text Summarization.\n",
    "###    Using nltk & sklearn"
   ]
  },
  {
   "cell_type": "markdown",
   "metadata": {},
   "source": [
    "***\n",
    "***"
   ]
  },
  {
   "cell_type": "markdown",
   "metadata": {},
   "source": [
    "### Packages."
   ]
  },
  {
   "cell_type": "code",
   "execution_count": 2,
   "metadata": {},
   "outputs": [],
   "source": [
    "# Load Package.\n",
    "import pandas as pd\n",
    "from heapq import nlargest\n",
    "from urllib.request import urlopen\n",
    "\n",
    "# Text Preprocessing Package.\n",
    "from nltk.tokenize import word_tokenize, sent_tokenize\n",
    "from sklearn.feature_extraction._stop_words import ENGLISH_STOP_WORDS\n",
    "from string import punctuation\n",
    "import re\n",
    "\n",
    "# Interactivity to Jupyter\n",
    "import ipywidgets\n",
    "from IPython.display import display"
   ]
  },
  {
   "cell_type": "markdown",
   "metadata": {},
   "source": [
    "### Punctuation List."
   ]
  },
  {
   "cell_type": "code",
   "execution_count": 3,
   "metadata": {},
   "outputs": [
    {
     "data": {
      "text/plain": [
       "'!\"#$%&\\'()*+,-./:;<=>?@[\\\\]^_`{|}~``\\'\\''"
      ]
     },
     "execution_count": 3,
     "metadata": {},
     "output_type": "execute_result"
    }
   ],
   "source": [
    "# Creating custom Punctuation List\n",
    "punctuation= punctuation +'``' +\"''\"\n",
    "punctuation"
   ]
  },
  {
   "cell_type": "markdown",
   "metadata": {},
   "source": [
    "### Dropdown List for Interactivity."
   ]
  },
  {
   "cell_type": "code",
   "execution_count": 4,
   "metadata": {},
   "outputs": [],
   "source": [
    "# Creating Dropdown List to select required percentage for summarisation \n",
    "drop_down = ipywidgets.Dropdown(options=list(range(20,41)),\n",
    "                                value=30,\n",
    "                                step=5,\n",
    "                                description='Percentage:',\n",
    "                                disabled=False)\n",
    "def square1(number):\n",
    "    print('Summarised Data will be {}% the Raw Text Data.'.format(drop_down.value))\n",
    "\n",
    "# ipywidgets.interact(square1, number=drop_down);\n",
    "# display(drop_down)"
   ]
  },
  {
   "cell_type": "markdown",
   "metadata": {},
   "source": [
    "### Import Data & Basic infomation about Data."
   ]
  },
  {
   "cell_type": "code",
   "execution_count": 5,
   "metadata": {},
   "outputs": [],
   "source": [
    "RAW_Data= '''Artificial intelligence (AI) refers to the simulation of human intelligence in machines that are programmed to think like humans and mimic their actions.The term may also be applied to any machine that exhibits traits associated with a human mind such as learning and problem-solving.The ideal characteristic of artificial intelligence is its ability to rationalize and take actions that have the best chance of achieving a specific goal. A subset of artificial intelligence is machine learning, which refers to the concept that computer programs can automatically learn from and adapt to new data without being assisted by humans. Deep learning techniques enable this automatic learning through the absorption of huge amounts of unstructured data such as text, images, or video. \\\n",
    "When most people hear the term artificial intelligence, the first thing they usually think of is robots. That's because big-budget films and novels weave stories about human-like machines that wreak havoc on Earth. But nothing could be further from the truth. Artificial intelligence is based on the principle that human intelligence can be defined in a way that a machine can easily mimic it and execute tasks, from the most simple to those that are even more complex. The goals of artificial intelligence include mimicking human cognitive activity. Researchers and developers in the field are making surprisingly rapid strides in mimicking activities such as learning, reasoning, and perception, to the extent that these can be concretely defined. Some believe that innovators may soon be able to develop systems that exceed the capacity of humans to learn or reason out any subject. But others remain skeptical because all cognitive activity is laced with value judgments that are subject to human experience. \\\n",
    "As technology advances, previous benchmarks that defined artificial intelligence become outdated. For example, machines that calculate basic functions or recognize text through optical character recognition are no longer considered to embody artificial intelligence, since this function is now taken for granted as an inherent computer function. AI is continuously evolving to benefit many different industries. Machines are wired using a cross-disciplinary approach based on mathematics, computer science, linguistics, psychology, and more. The applications for artificial intelligence are endless. The technology can be applied to many different sectors and industries. AI is being tested and used in the healthcare industry for dosing drugs and different treatment in patients, and for surgical procedures in the operating room. \\\n",
    "Other examples of machines with artificial intelligence include computers that play chess and self-driving cars. Each of these machines must weigh the consequences of any action they take, as each action will impact the end result. In chess, the end result is winning the game. For self-driving cars, the computer system must account for all external data and compute it to act in a way that prevents a collision. \\\n",
    "Artificial intelligence also has applications in the financial industry, where it is used to detect and flag activity in banking and finance such as unusual debit card usage and large account deposits—all of which help a bank's fraud department. Applications for AI are also being used to help streamline and make trading easier. This is done by making supply, demand, and pricing of securities easier to estimate. \\\n",
    "Artificial intelligence can be divided into two different categories: weak and strong. Weak artificial intelligence embodies a system designed to carry out one particular job. Weak AI systems include video games such as the chess example from above and personal assistants such as Amazon's Alexa and Apple's Siri. You ask the assistant a question, it answers it for you. Strong artificial intelligence systems are systems that carry on the tasks considered to be human-like. These tend to be more complex and complicated systems. They are programmed to handle situations in which they may be required to problem solve without having a person intervene. These kinds of systems can be found in applications like self-driving cars or in hospital operating rooms. \\\n",
    "Since its beginning, artificial intelligence has come under scrutiny from scientists and the public alike. One common theme is the idea that machines will become so highly developed that humans will not be able to keep up and they will take off on their own, redesigning themselves at an exponential rate. \\\n",
    "Another is that machines can hack into people's privacy and even be weaponized. Other arguments debate the ethics of artificial intelligence and whether intelligent systems such as robots should be treated with the same rights as humans. Self-driving cars have been fairly controversial as their machines tend to be designed for the lowest possible risk and the least casualties. If presented with a scenario of colliding with one person or another at the same time, these cars would calculate the option that would cause the least amount of damage. Another contentious issue many people have with artificial intelligence is how it may affect human employment. With many industries looking to automate certain jobs through the use of intelligent machinery, there is a concern that people would be pushed out of the workforce. Self-driving cars may remove the need for taxis and car-share programs, while manufacturers may easily replace human labor with machines, making people's skills more obsolete.'''"
   ]
  },
  {
   "cell_type": "code",
   "execution_count": null,
   "metadata": {},
   "outputs": [],
   "source": [
    "# RAW_Data"
   ]
  },
  {
   "cell_type": "code",
   "execution_count": 6,
   "metadata": {},
   "outputs": [
    {
     "name": "stdout",
     "output_type": "stream",
     "text": [
      "    1. Total Length of the Raw Data is :- 5521\n",
      "    2. Total Number of Sentences in the Raw Data is :- 42\n",
      "    3. Total Number of Words in the Raw Data is :- 938\n"
     ]
    }
   ],
   "source": [
    "# Link= 'https://en.wikipedia.org/wiki/Artificial_intelligence'\n",
    "# RAW_Data = urlopen(url= Link).read()\n",
    "\n",
    "### Converting The Data into String Format\n",
    "# RAW_Data= RAW_Data.decode(\"utf-8\")\n",
    "\n",
    "# Data Backup\n",
    "Backup= RAW_Data\n",
    "\n",
    "# Printing basic information of the data after Data cleaning.\n",
    "print('    1. Total Length of the Raw Data is :-',len(RAW_Data))\n",
    "print('    2. Total Number of Sentences in the Raw Data is :-',len(sent_tokenize(RAW_Data)))\n",
    "print('    3. Total Number of Words in the Raw Data is :-',len(word_tokenize(RAW_Data)))"
   ]
  },
  {
   "cell_type": "markdown",
   "metadata": {},
   "source": [
    "### Select Summarisation Percentage."
   ]
  },
  {
   "cell_type": "code",
   "execution_count": 7,
   "metadata": {},
   "outputs": [
    {
     "name": "stdout",
     "output_type": "stream",
     "text": [
      "\n",
      "*** Select the Summarisation Percentage from the below Dropdown List. [Default is 30%]\n"
     ]
    },
    {
     "data": {
      "application/vnd.jupyter.widget-view+json": {
       "model_id": "28386483fbaa42bb9d5edd10e1ccb182",
       "version_major": 2,
       "version_minor": 0
      },
      "text/plain": [
       "interactive(children=(Dropdown(description='Percentage:', index=10, options=(20, 21, 22, 23, 24, 25, 26, 27, 2…"
      ]
     },
     "metadata": {},
     "output_type": "display_data"
    }
   ],
   "source": [
    "print('\\n*** Select the Summarisation Percentage from the below Dropdown List. [Default is 30%]')\n",
    "ipywidgets.interact(square1, number=drop_down);"
   ]
  },
  {
   "cell_type": "markdown",
   "metadata": {},
   "source": [
    "### Data Perparing."
   ]
  },
  {
   "cell_type": "code",
   "execution_count": 8,
   "metadata": {},
   "outputs": [
    {
     "name": "stdout",
     "output_type": "stream",
     "text": [
      "    1. Total Length of the Raw Data is :- 5524\n",
      "    2. Total Number of Sentences in the Raw Data is :- 44\n",
      "    3. Total Number of Words in the Raw Data is :- 942\n",
      "    4. Summarised Data will be 30% the Raw Text Data.\n"
     ]
    }
   ],
   "source": [
    "# Data cleaning\n",
    "\n",
    "# Adding space after Full-Stop\n",
    "RAW_Data= re.sub(r'[.]',r'. ',RAW_Data)\n",
    "\n",
    "# Removing extra spaces in the text\n",
    "RAW_Data= re.sub(r' +', ' ', RAW_Data)\n",
    "\n",
    "# Printing basic information of the data after Data cleaning.\n",
    "print('    1. Total Length of the Raw Data is :-',len(RAW_Data))\n",
    "print('    2. Total Number of Sentences in the Raw Data is :-',len(sent_tokenize(RAW_Data)))\n",
    "print('    3. Total Number of Words in the Raw Data is :-',len(word_tokenize(RAW_Data)))\n",
    "print('    4. Summarised Data will be {}% the Raw Text Data.'.format(drop_down.value))"
   ]
  },
  {
   "cell_type": "markdown",
   "metadata": {},
   "source": [
    "### Stopwords & Tokenize Data."
   ]
  },
  {
   "cell_type": "code",
   "execution_count": 9,
   "metadata": {},
   "outputs": [
    {
     "name": "stdout",
     "output_type": "stream",
     "text": [
      "['how', 'seems', 'is', 'less', 'former', 'nowhere', 'else', 'first']\n"
     ]
    },
    {
     "data": {
      "text/plain": [
       "['artificial', 'intelligence', '(', 'ai', ')', 'refers']"
      ]
     },
     "execution_count": 9,
     "metadata": {},
     "output_type": "execute_result"
    }
   ],
   "source": [
    "# Creating variable\n",
    "stopwords = list(ENGLISH_STOP_WORDS)\n",
    "\n",
    "# Sample stop-words\n",
    "print(stopwords[:8])\n",
    "\n",
    "# Tokenization of entire Text Data.\n",
    "token= word_tokenize(RAW_Data.lower())\n",
    "\n",
    "# Sample tokens\n",
    "token[:6]"
   ]
  },
  {
   "cell_type": "markdown",
   "metadata": {},
   "source": [
    "### Word Frequency."
   ]
  },
  {
   "cell_type": "code",
   "execution_count": 10,
   "metadata": {},
   "outputs": [
    {
     "name": "stdout",
     "output_type": "stream",
     "text": [
      "\n",
      "###### Word-frequencie value ######\n",
      "\n",
      " {'artificial': 17, 'intelligence': 19, 'ai': 5, 'refers': 2, 'simulation': 1, 'human': 7, 'machines': 10, 'programmed': 2, 'think': 2, 'like': 2, 'humans': 5, 'mimic': 2, 'actions': 2, 'term': 2, 'applied': 2, 'machine': 3, 'exhibits': 1, 'traits': 1, 'associated': 1, 'mind': 1, 'learning': 5, 'problem-solving': 1, 'ideal': 1, 'characteristic': 1, 'ability': 1, 'rationalize': 1, 'best': 1, 'chance': 1, 'achieving': 1, 'specific': 1, 'goal': 1, 'subset': 1, 'concept': 1, 'computer': 4, 'programs': 2, 'automatically': 1, 'learn': 2, 'adapt': 1, 'new': 1, 'data': 3, 'assisted': 1, 'deep': 1, 'techniques': 1, 'enable': 1, 'automatic': 1, 'absorption': 1, 'huge': 1, 'amounts': 1, 'unstructured': 1, 'text': 2, 'images': 1, 'video': 2, 'people': 5, 'hear': 1, 'thing': 1, 'usually': 1, 'robots': 2, \"'s\": 6, 'big-budget': 1, 'films': 1, 'novels': 1, 'weave': 1, 'stories': 1, 'human-like': 2, 'wreak': 1, 'havoc': 1, 'earth': 1, 'truth': 1, 'based': 2, 'principle': 1, 'defined': 3, 'way': 2, 'easily': 2, 'execute': 1, 'tasks': 2, 'simple': 1, 'complex': 2, 'goals': 1, 'include': 3, 'mimicking': 2, 'cognitive': 2, 'activity': 3, 'researchers': 1, 'developers': 1, 'field': 1, 'making': 3, 'surprisingly': 1, 'rapid': 1, 'strides': 1, 'activities': 1, 'reasoning': 1, 'perception': 1, 'extent': 1, 'concretely': 1, 'believe': 1, 'innovators': 1, 'soon': 1, 'able': 2, 'develop': 1, 'systems': 7, 'exceed': 1, 'capacity': 1, 'reason': 1, 'subject': 2, 'remain': 1, 'skeptical': 1, 'laced': 1, 'value': 1, 'judgments': 1, 'experience': 1, 'technology': 2, 'advances': 1, 'previous': 1, 'benchmarks': 1, 'outdated': 1, 'example': 2, 'calculate': 2, 'basic': 1, 'functions': 1, 'recognize': 1, 'optical': 1, 'character': 1, 'recognition': 1, 'longer': 1, 'considered': 2, 'embody': 1, 'function': 2, 'taken': 1, 'granted': 1, 'inherent': 1, 'continuously': 1, 'evolving': 1, 'benefit': 1, 'different': 4, 'industries': 3, 'wired': 1, 'using': 1, 'cross-disciplinary': 1, 'approach': 1, 'mathematics': 1, 'science': 1, 'linguistics': 1, 'psychology': 1, 'applications': 4, 'endless': 1, 'sectors': 1, 'tested': 1, 'used': 3, 'healthcare': 1, 'industry': 2, 'dosing': 1, 'drugs': 1, 'treatment': 1, 'patients': 1, 'surgical': 1, 'procedures': 1, 'operating': 2, 'room': 1, 'examples': 1, 'computers': 1, 'play': 1, 'chess': 3, 'self-driving': 5, 'cars': 6, 'weigh': 1, 'consequences': 1, 'action': 2, 'impact': 1, 'end': 2, 'result': 2, 'winning': 1, 'game': 1, 'account': 2, 'external': 1, 'compute': 1, 'act': 1, 'prevents': 1, 'collision': 1, 'financial': 1, 'detect': 1, 'flag': 1, 'banking': 1, 'finance': 1, 'unusual': 1, 'debit': 1, 'card': 1, 'usage': 1, 'large': 1, 'deposits—all': 1, 'help': 2, 'bank': 1, 'fraud': 1, 'department': 1, 'streamline': 1, 'make': 1, 'trading': 1, 'easier': 2, 'supply': 1, 'demand': 1, 'pricing': 1, 'securities': 1, 'estimate': 1, 'divided': 1, 'categories': 1, 'weak': 3, 'strong': 2, 'embodies': 1, 'designed': 2, 'carry': 2, 'particular': 1, 'job': 1, 'games': 1, 'personal': 1, 'assistants': 1, 'amazon': 1, 'alexa': 1, 'apple': 1, 'siri': 1, 'ask': 1, 'assistant': 1, 'question': 1, 'answers': 1, 'tend': 2, 'complicated': 1, 'handle': 1, 'situations': 1, 'required': 1, 'problem': 1, 'solve': 1, 'having': 1, 'person': 2, 'intervene': 1, 'kinds': 1, 'hospital': 1, 'rooms': 1, 'beginning': 1, 'come': 1, 'scrutiny': 1, 'scientists': 1, 'public': 1, 'alike': 1, 'common': 1, 'theme': 1, 'idea': 1, 'highly': 1, 'developed': 1, 'redesigning': 1, 'exponential': 1, 'rate': 1, 'hack': 1, 'privacy': 1, 'weaponized': 1, 'arguments': 1, 'debate': 1, 'ethics': 1, 'intelligent': 2, 'treated': 1, 'rights': 1, 'fairly': 1, 'controversial': 1, 'lowest': 1, 'possible': 1, 'risk': 1, 'casualties': 1, 'presented': 1, 'scenario': 1, 'colliding': 1, 'time': 1, 'option': 1, 'cause': 1, 'damage': 1, 'contentious': 1, 'issue': 1, 'affect': 1, 'employment': 1, 'looking': 1, 'automate': 1, 'certain': 1, 'jobs': 1, 'use': 1, 'machinery': 1, 'concern': 1, 'pushed': 1, 'workforce': 1, 'remove': 1, 'need': 1, 'taxis': 1, 'car-share': 1, 'manufacturers': 1, 'replace': 1, 'labor': 1, 'skills': 1, 'obsolete': 1}\n"
     ]
    }
   ],
   "source": [
    "# Build Word Frequency for entire Text Data - Excluding stopwords & punctuation.\n",
    "word_frequencies = {}\n",
    "for word in token:\n",
    "    if word not in stopwords:\n",
    "        if word not in punctuation:\n",
    "            if word not in word_frequencies.keys():\n",
    "                word_frequencies[word] = 1\n",
    "            else:\n",
    "                word_frequencies[word] += 1\n",
    "print('\\n###### Word-frequencie value ######\\n\\n',word_frequencies)"
   ]
  },
  {
   "cell_type": "code",
   "execution_count": 11,
   "metadata": {},
   "outputs": [
    {
     "data": {
      "text/html": [
       "<div>\n",
       "<style scoped>\n",
       "    .dataframe tbody tr th:only-of-type {\n",
       "        vertical-align: middle;\n",
       "    }\n",
       "\n",
       "    .dataframe tbody tr th {\n",
       "        vertical-align: top;\n",
       "    }\n",
       "\n",
       "    .dataframe thead th {\n",
       "        text-align: right;\n",
       "    }\n",
       "</style>\n",
       "<table border=\"1\" class=\"dataframe\">\n",
       "  <thead>\n",
       "    <tr style=\"text-align: right;\">\n",
       "      <th></th>\n",
       "      <th>Word</th>\n",
       "      <th>Frequencies</th>\n",
       "    </tr>\n",
       "  </thead>\n",
       "  <tbody>\n",
       "    <tr>\n",
       "      <th>0</th>\n",
       "      <td>artificial</td>\n",
       "      <td>17</td>\n",
       "    </tr>\n",
       "    <tr>\n",
       "      <th>1</th>\n",
       "      <td>intelligence</td>\n",
       "      <td>19</td>\n",
       "    </tr>\n",
       "    <tr>\n",
       "      <th>2</th>\n",
       "      <td>ai</td>\n",
       "      <td>5</td>\n",
       "    </tr>\n",
       "  </tbody>\n",
       "</table>\n",
       "</div>"
      ],
      "text/plain": [
       "           Word  Frequencies\n",
       "0    artificial           17\n",
       "1  intelligence           19\n",
       "2            ai            5"
      ]
     },
     "execution_count": 11,
     "metadata": {},
     "output_type": "execute_result"
    }
   ],
   "source": [
    "# Creating Data Frame for the Word Frequencies.\n",
    "Word= []\n",
    "Frequencies= []\n",
    "\n",
    "for i in word_frequencies.keys():\n",
    "    Word.append(i)\n",
    "    Frequencies.append(word_frequencies[i])\n",
    "    \n",
    "Word_Frequencies_Data= pd.DataFrame({'Word':Word, 'Frequencies':Frequencies})\n",
    "Word_Frequencies_Data.head(3)"
   ]
  },
  {
   "cell_type": "code",
   "execution_count": 12,
   "metadata": {},
   "outputs": [
    {
     "data": {
      "text/plain": [
       "19"
      ]
     },
     "execution_count": 12,
     "metadata": {},
     "output_type": "execute_result"
    }
   ],
   "source": [
    "# Maximum Word Frequency\n",
    "maximum_frequency = max(word_frequencies.values())\n",
    "maximum_frequency"
   ]
  },
  {
   "cell_type": "code",
   "execution_count": 13,
   "metadata": {},
   "outputs": [
    {
     "name": "stdout",
     "output_type": "stream",
     "text": [
      "\n",
      "###### Normalised word-frequencie values ######\n",
      "\n",
      " {'artificial': 0.8947368421052632, 'intelligence': 1.0, 'ai': 0.2631578947368421, 'refers': 0.10526315789473684, 'simulation': 0.05263157894736842, 'human': 0.3684210526315789, 'machines': 0.5263157894736842, 'programmed': 0.10526315789473684, 'think': 0.10526315789473684, 'like': 0.10526315789473684, 'humans': 0.2631578947368421, 'mimic': 0.10526315789473684, 'actions': 0.10526315789473684, 'term': 0.10526315789473684, 'applied': 0.10526315789473684, 'machine': 0.15789473684210525, 'exhibits': 0.05263157894736842, 'traits': 0.05263157894736842, 'associated': 0.05263157894736842, 'mind': 0.05263157894736842, 'learning': 0.2631578947368421, 'problem-solving': 0.05263157894736842, 'ideal': 0.05263157894736842, 'characteristic': 0.05263157894736842, 'ability': 0.05263157894736842, 'rationalize': 0.05263157894736842, 'best': 0.05263157894736842, 'chance': 0.05263157894736842, 'achieving': 0.05263157894736842, 'specific': 0.05263157894736842, 'goal': 0.05263157894736842, 'subset': 0.05263157894736842, 'concept': 0.05263157894736842, 'computer': 0.21052631578947367, 'programs': 0.10526315789473684, 'automatically': 0.05263157894736842, 'learn': 0.10526315789473684, 'adapt': 0.05263157894736842, 'new': 0.05263157894736842, 'data': 0.15789473684210525, 'assisted': 0.05263157894736842, 'deep': 0.05263157894736842, 'techniques': 0.05263157894736842, 'enable': 0.05263157894736842, 'automatic': 0.05263157894736842, 'absorption': 0.05263157894736842, 'huge': 0.05263157894736842, 'amounts': 0.05263157894736842, 'unstructured': 0.05263157894736842, 'text': 0.10526315789473684, 'images': 0.05263157894736842, 'video': 0.10526315789473684, 'people': 0.2631578947368421, 'hear': 0.05263157894736842, 'thing': 0.05263157894736842, 'usually': 0.05263157894736842, 'robots': 0.10526315789473684, \"'s\": 0.3157894736842105, 'big-budget': 0.05263157894736842, 'films': 0.05263157894736842, 'novels': 0.05263157894736842, 'weave': 0.05263157894736842, 'stories': 0.05263157894736842, 'human-like': 0.10526315789473684, 'wreak': 0.05263157894736842, 'havoc': 0.05263157894736842, 'earth': 0.05263157894736842, 'truth': 0.05263157894736842, 'based': 0.10526315789473684, 'principle': 0.05263157894736842, 'defined': 0.15789473684210525, 'way': 0.10526315789473684, 'easily': 0.10526315789473684, 'execute': 0.05263157894736842, 'tasks': 0.10526315789473684, 'simple': 0.05263157894736842, 'complex': 0.10526315789473684, 'goals': 0.05263157894736842, 'include': 0.15789473684210525, 'mimicking': 0.10526315789473684, 'cognitive': 0.10526315789473684, 'activity': 0.15789473684210525, 'researchers': 0.05263157894736842, 'developers': 0.05263157894736842, 'field': 0.05263157894736842, 'making': 0.15789473684210525, 'surprisingly': 0.05263157894736842, 'rapid': 0.05263157894736842, 'strides': 0.05263157894736842, 'activities': 0.05263157894736842, 'reasoning': 0.05263157894736842, 'perception': 0.05263157894736842, 'extent': 0.05263157894736842, 'concretely': 0.05263157894736842, 'believe': 0.05263157894736842, 'innovators': 0.05263157894736842, 'soon': 0.05263157894736842, 'able': 0.10526315789473684, 'develop': 0.05263157894736842, 'systems': 0.3684210526315789, 'exceed': 0.05263157894736842, 'capacity': 0.05263157894736842, 'reason': 0.05263157894736842, 'subject': 0.10526315789473684, 'remain': 0.05263157894736842, 'skeptical': 0.05263157894736842, 'laced': 0.05263157894736842, 'value': 0.05263157894736842, 'judgments': 0.05263157894736842, 'experience': 0.05263157894736842, 'technology': 0.10526315789473684, 'advances': 0.05263157894736842, 'previous': 0.05263157894736842, 'benchmarks': 0.05263157894736842, 'outdated': 0.05263157894736842, 'example': 0.10526315789473684, 'calculate': 0.10526315789473684, 'basic': 0.05263157894736842, 'functions': 0.05263157894736842, 'recognize': 0.05263157894736842, 'optical': 0.05263157894736842, 'character': 0.05263157894736842, 'recognition': 0.05263157894736842, 'longer': 0.05263157894736842, 'considered': 0.10526315789473684, 'embody': 0.05263157894736842, 'function': 0.10526315789473684, 'taken': 0.05263157894736842, 'granted': 0.05263157894736842, 'inherent': 0.05263157894736842, 'continuously': 0.05263157894736842, 'evolving': 0.05263157894736842, 'benefit': 0.05263157894736842, 'different': 0.21052631578947367, 'industries': 0.15789473684210525, 'wired': 0.05263157894736842, 'using': 0.05263157894736842, 'cross-disciplinary': 0.05263157894736842, 'approach': 0.05263157894736842, 'mathematics': 0.05263157894736842, 'science': 0.05263157894736842, 'linguistics': 0.05263157894736842, 'psychology': 0.05263157894736842, 'applications': 0.21052631578947367, 'endless': 0.05263157894736842, 'sectors': 0.05263157894736842, 'tested': 0.05263157894736842, 'used': 0.15789473684210525, 'healthcare': 0.05263157894736842, 'industry': 0.10526315789473684, 'dosing': 0.05263157894736842, 'drugs': 0.05263157894736842, 'treatment': 0.05263157894736842, 'patients': 0.05263157894736842, 'surgical': 0.05263157894736842, 'procedures': 0.05263157894736842, 'operating': 0.10526315789473684, 'room': 0.05263157894736842, 'examples': 0.05263157894736842, 'computers': 0.05263157894736842, 'play': 0.05263157894736842, 'chess': 0.15789473684210525, 'self-driving': 0.2631578947368421, 'cars': 0.3157894736842105, 'weigh': 0.05263157894736842, 'consequences': 0.05263157894736842, 'action': 0.10526315789473684, 'impact': 0.05263157894736842, 'end': 0.10526315789473684, 'result': 0.10526315789473684, 'winning': 0.05263157894736842, 'game': 0.05263157894736842, 'account': 0.10526315789473684, 'external': 0.05263157894736842, 'compute': 0.05263157894736842, 'act': 0.05263157894736842, 'prevents': 0.05263157894736842, 'collision': 0.05263157894736842, 'financial': 0.05263157894736842, 'detect': 0.05263157894736842, 'flag': 0.05263157894736842, 'banking': 0.05263157894736842, 'finance': 0.05263157894736842, 'unusual': 0.05263157894736842, 'debit': 0.05263157894736842, 'card': 0.05263157894736842, 'usage': 0.05263157894736842, 'large': 0.05263157894736842, 'deposits—all': 0.05263157894736842, 'help': 0.10526315789473684, 'bank': 0.05263157894736842, 'fraud': 0.05263157894736842, 'department': 0.05263157894736842, 'streamline': 0.05263157894736842, 'make': 0.05263157894736842, 'trading': 0.05263157894736842, 'easier': 0.10526315789473684, 'supply': 0.05263157894736842, 'demand': 0.05263157894736842, 'pricing': 0.05263157894736842, 'securities': 0.05263157894736842, 'estimate': 0.05263157894736842, 'divided': 0.05263157894736842, 'categories': 0.05263157894736842, 'weak': 0.15789473684210525, 'strong': 0.10526315789473684, 'embodies': 0.05263157894736842, 'designed': 0.10526315789473684, 'carry': 0.10526315789473684, 'particular': 0.05263157894736842, 'job': 0.05263157894736842, 'games': 0.05263157894736842, 'personal': 0.05263157894736842, 'assistants': 0.05263157894736842, 'amazon': 0.05263157894736842, 'alexa': 0.05263157894736842, 'apple': 0.05263157894736842, 'siri': 0.05263157894736842, 'ask': 0.05263157894736842, 'assistant': 0.05263157894736842, 'question': 0.05263157894736842, 'answers': 0.05263157894736842, 'tend': 0.10526315789473684, 'complicated': 0.05263157894736842, 'handle': 0.05263157894736842, 'situations': 0.05263157894736842, 'required': 0.05263157894736842, 'problem': 0.05263157894736842, 'solve': 0.05263157894736842, 'having': 0.05263157894736842, 'person': 0.10526315789473684, 'intervene': 0.05263157894736842, 'kinds': 0.05263157894736842, 'hospital': 0.05263157894736842, 'rooms': 0.05263157894736842, 'beginning': 0.05263157894736842, 'come': 0.05263157894736842, 'scrutiny': 0.05263157894736842, 'scientists': 0.05263157894736842, 'public': 0.05263157894736842, 'alike': 0.05263157894736842, 'common': 0.05263157894736842, 'theme': 0.05263157894736842, 'idea': 0.05263157894736842, 'highly': 0.05263157894736842, 'developed': 0.05263157894736842, 'redesigning': 0.05263157894736842, 'exponential': 0.05263157894736842, 'rate': 0.05263157894736842, 'hack': 0.05263157894736842, 'privacy': 0.05263157894736842, 'weaponized': 0.05263157894736842, 'arguments': 0.05263157894736842, 'debate': 0.05263157894736842, 'ethics': 0.05263157894736842, 'intelligent': 0.10526315789473684, 'treated': 0.05263157894736842, 'rights': 0.05263157894736842, 'fairly': 0.05263157894736842, 'controversial': 0.05263157894736842, 'lowest': 0.05263157894736842, 'possible': 0.05263157894736842, 'risk': 0.05263157894736842, 'casualties': 0.05263157894736842, 'presented': 0.05263157894736842, 'scenario': 0.05263157894736842, 'colliding': 0.05263157894736842, 'time': 0.05263157894736842, 'option': 0.05263157894736842, 'cause': 0.05263157894736842, 'damage': 0.05263157894736842, 'contentious': 0.05263157894736842, 'issue': 0.05263157894736842, 'affect': 0.05263157894736842, 'employment': 0.05263157894736842, 'looking': 0.05263157894736842, 'automate': 0.05263157894736842, 'certain': 0.05263157894736842, 'jobs': 0.05263157894736842, 'use': 0.05263157894736842, 'machinery': 0.05263157894736842, 'concern': 0.05263157894736842, 'pushed': 0.05263157894736842, 'workforce': 0.05263157894736842, 'remove': 0.05263157894736842, 'need': 0.05263157894736842, 'taxis': 0.05263157894736842, 'car-share': 0.05263157894736842, 'manufacturers': 0.05263157894736842, 'replace': 0.05263157894736842, 'labor': 0.05263157894736842, 'skills': 0.05263157894736842, 'obsolete': 0.05263157894736842}\n"
     ]
    }
   ],
   "source": [
    "# Normalisation of Word frequencie Value (Putting a value in the Range of 0 to 1).\n",
    "for word in word_frequencies.keys():  \n",
    "        word_frequencies[word] = (word_frequencies[word]/maximum_frequency)\n",
    "\n",
    "print('\\n###### Normalised word-frequencie values ######\\n\\n',word_frequencies)"
   ]
  },
  {
   "cell_type": "markdown",
   "metadata": {},
   "source": [
    "### Sentence Score."
   ]
  },
  {
   "cell_type": "code",
   "execution_count": 14,
   "metadata": {},
   "outputs": [
    {
     "name": "stdout",
     "output_type": "stream",
     "text": [
      "Total number of Sentence:- 44\n"
     ]
    }
   ],
   "source": [
    "# Tokenization of Sentences.\n",
    "sentence_token_list= sent_tokenize(RAW_Data)\n",
    "sentence_list=[]\n",
    "for s in sentence_token_list:\n",
    "    sentence_list.append(s)\n",
    "    \n",
    "print('Total number of Sentence:-',len(sentence_list))"
   ]
  },
  {
   "cell_type": "code",
   "execution_count": 15,
   "metadata": {},
   "outputs": [
    {
     "data": {
      "text/plain": [
       "{'Artificial intelligence (AI) refers to the simulation of human intelligence in machines that are programmed to think like humans and mimic their actions.': 5.000000000000002,\n",
       " 'The term may also be applied to any machine that exhibits traits associated with a human mind such as learning and problem-solving.': 1.2631578947368418,\n",
       " 'The ideal characteristic of artificial intelligence is its ability to rationalize and take actions that have the best chance of achieving a specific goal.': 2.473684210526317,\n",
       " 'A subset of artificial intelligence is machine learning, which refers to the concept that computer programs can automatically learn from and adapt to new data without being assisted by humans.': 3.5789473684210527,\n",
       " 'Deep learning techniques enable this automatic learning through the absorption of huge amounts of unstructured data such as text, images, or video.': 1.3684210526315788,\n",
       " 'When most people hear the term artificial intelligence, the first thing they usually think of is robots.': 2.6315789473684212,\n",
       " \"That's because big-budget films and novels weave stories about human-like machines that wreak havoc on Earth.\": 1.3684210526315788,\n",
       " 'But nothing could be further from the truth.': 0.05263157894736842,\n",
       " 'Artificial intelligence is based on the principle that human intelligence can be defined in a way that a machine can easily mimic it and execute tasks, from the most simple to those that are even more complex.': 4.368421052631579,\n",
       " 'The goals of artificial intelligence include mimicking human cognitive activity.': 2.8421052631578942,\n",
       " 'Researchers and developers in the field are making surprisingly rapid strides in mimicking activities such as learning, reasoning, and perception, to the extent that these can be concretely defined.': 1.2631578947368418,\n",
       " 'Some believe that innovators may soon be able to develop systems that exceed the capacity of humans to learn or reason out any subject.': 1.3157894736842102,\n",
       " 'But others remain skeptical because all cognitive activity is laced with value judgments that are subject to human experience.': 1.0526315789473684,\n",
       " 'As technology advances, previous benchmarks that defined artificial intelligence become outdated.': 2.368421052631579,\n",
       " 'For example, machines that calculate basic functions or recognize text through optical character recognition are no longer considered to embody artificial intelligence, since this function is now taken for granted as an inherent computer function.': 3.8421052631578942,\n",
       " 'AI is continuously evolving to benefit many different industries.': 0.7894736842105263,\n",
       " 'Machines are wired using a cross-disciplinary approach based on mathematics, computer science, linguistics, psychology, and more.': 1.2631578947368418,\n",
       " 'The applications for artificial intelligence are endless.': 2.1578947368421053,\n",
       " 'The technology can be applied to many different sectors and industries.': 0.631578947368421,\n",
       " 'AI is being tested and used in the healthcare industry for dosing drugs and different treatment in patients, and for surgical procedures in the operating room.': 1.31578947368421,\n",
       " 'Other examples of machines with artificial intelligence include computers that play chess and self-driving cars.': 3.4736842105263164,\n",
       " 'Each of these machines must weigh the consequences of any action they take, as each action will impact the end result.': 1.1052631578947367,\n",
       " 'In chess, the end result is winning the game.': 0.47368421052631576,\n",
       " 'For self-driving cars, the computer system must account for all external data and compute it to act in a way that prevents a collision.': 1.4210526315789473,\n",
       " \"Artificial intelligence also has applications in the financial industry, where it is used to detect and flag activity in banking and finance such as unusual debit card usage and large account deposits—all of which help a bank's fraud department.\": 3.7894736842105288,\n",
       " 'Applications for AI are also being used to help streamline and make trading easier.': 0.9999999999999999,\n",
       " 'This is done by making supply, demand, and pricing of securities easier to estimate.': 0.5263157894736842,\n",
       " 'Artificial intelligence can be divided into two different categories: weak and strong.': 2.473684210526316,\n",
       " 'Weak artificial intelligence embodies a system designed to carry out one particular job.': 2.4210526315789473,\n",
       " \"Weak AI systems include video games such as the chess example from above and personal assistants such as Amazon's Alexa and Apple's Siri.\": 2.3157894736842106,\n",
       " 'You ask the assistant a question, it answers it for you.': 0.21052631578947367,\n",
       " 'Strong artificial intelligence systems are systems that carry on the tasks considered to be human-like.': 3.1578947368421044,\n",
       " 'These tend to be more complex and complicated systems.': 0.631578947368421,\n",
       " 'They are programmed to handle situations in which they may be required to problem solve without having a person intervene.': 0.5789473684210527,\n",
       " 'These kinds of systems can be found in applications like self-driving cars or in hospital operating rooms.': 1.5263157894736843,\n",
       " 'Since its beginning, artificial intelligence has come under scrutiny from scientists and the public alike.': 2.2105263157894743,\n",
       " 'One common theme is the idea that machines will become so highly developed that humans will not be able to keep up and they will take off on their own, redesigning themselves at an exponential rate.': 1.31578947368421,\n",
       " \"Another is that machines can hack into people's privacy and even be weaponized.\": 1.263157894736842,\n",
       " 'Other arguments debate the ethics of artificial intelligence and whether intelligent systems such as robots should be treated with the same rights as humans.': 2.9999999999999996,\n",
       " 'Self-driving cars have been fairly controversial as their machines tend to be designed for the lowest possible risk and the least casualties.': 1.6315789473684204,\n",
       " 'If presented with a scenario of colliding with one person or another at the same time, these cars would calculate the option that would cause the least amount of damage.': 0.894736842105263,\n",
       " 'Another contentious issue many people have with artificial intelligence is how it may affect human employment.': 2.736842105263158,\n",
       " 'With many industries looking to automate certain jobs through the use of intelligent machinery, there is a concern that people would be pushed out of the workforce.': 0.9999999999999998,\n",
       " \"Self-driving cars may remove the need for taxis and car-share programs, while manufacturers may easily replace human labor with machines, making people's skills more obsolete.\": 2.8947368421052633}"
      ]
     },
     "execution_count": 15,
     "metadata": {},
     "output_type": "execute_result"
    }
   ],
   "source": [
    "# Creating Sentence Score - By comparing each word of the sentence with the Word Frequencies Dictionary\n",
    "sentence_scores = {}  \n",
    "for sent in sentence_list:  \n",
    "        for word in word_tokenize(sent.lower()):            \n",
    "            if word in word_frequencies.keys():\n",
    "                    if sent not in sentence_scores.keys():\n",
    "                        sentence_scores[sent] = word_frequencies[word]\n",
    "                    else:\n",
    "                        sentence_scores[sent] += word_frequencies[word]\n",
    "# Sentence Score value\n",
    "sentence_scores"
   ]
  },
  {
   "cell_type": "markdown",
   "metadata": {},
   "source": [
    "### Creating Summary."
   ]
  },
  {
   "cell_type": "code",
   "execution_count": 16,
   "metadata": {},
   "outputs": [
    {
     "data": {
      "text/plain": [
       "13"
      ]
     },
     "execution_count": 16,
     "metadata": {},
     "output_type": "execute_result"
    }
   ],
   "source": [
    "# Selecting length of sentences for summary.\n",
    "select_length= int(len(sentence_list) * ((drop_down.value)/100))\n",
    "select_length"
   ]
  },
  {
   "cell_type": "code",
   "execution_count": 17,
   "metadata": {},
   "outputs": [
    {
     "name": "stdout",
     "output_type": "stream",
     "text": [
      "['Artificial intelligence (AI) refers to the simulation of human intelligence in machines that are programmed to think like humans and mimic their actions.', 'Artificial intelligence is based on the principle that human intelligence can be defined in a way that a machine can easily mimic it and execute tasks, from the most simple to those that are even more complex.', 'For example, machines that calculate basic functions or recognize text through optical character recognition are no longer considered to embody artificial intelligence, since this function is now taken for granted as an inherent computer function.', \"Artificial intelligence also has applications in the financial industry, where it is used to detect and flag activity in banking and finance such as unusual debit card usage and large account deposits—all of which help a bank's fraud department.\", 'A subset of artificial intelligence is machine learning, which refers to the concept that computer programs can automatically learn from and adapt to new data without being assisted by humans.', 'Other examples of machines with artificial intelligence include computers that play chess and self-driving cars.', 'Strong artificial intelligence systems are systems that carry on the tasks considered to be human-like.', 'Other arguments debate the ethics of artificial intelligence and whether intelligent systems such as robots should be treated with the same rights as humans.', \"Self-driving cars may remove the need for taxis and car-share programs, while manufacturers may easily replace human labor with machines, making people's skills more obsolete.\", 'The goals of artificial intelligence include mimicking human cognitive activity.', 'Another contentious issue many people have with artificial intelligence is how it may affect human employment.', 'When most people hear the term artificial intelligence, the first thing they usually think of is robots.', 'The ideal characteristic of artificial intelligence is its ability to rationalize and take actions that have the best chance of achieving a specific goal.']\n"
     ]
    }
   ],
   "source": [
    "# Create Summary.\n",
    "summary= nlargest(n= select_length, iterable= sentence_scores, key= sentence_scores.get)\n",
    "print(summary)"
   ]
  },
  {
   "cell_type": "code",
   "execution_count": 18,
   "metadata": {},
   "outputs": [
    {
     "name": "stdout",
     "output_type": "stream",
     "text": [
      "###### Below Summarised-Text is 29.55% of the given Raw-Text.\n",
      "\n",
      "Artificial intelligence (AI) refers to the simulation of human intelligence in machines that are programmed to think like humans and mimic their actions. Artificial intelligence is based on the principle that human intelligence can be defined in a way that a machine can easily mimic it and execute tasks, from the most simple to those that are even more complex. For example, machines that calculate basic functions or recognize text through optical character recognition are no longer considered to embody artificial intelligence, since this function is now taken for granted as an inherent computer function. Artificial intelligence also has applications in the financial industry, where it is used to detect and flag activity in banking and finance such as unusual debit card usage and large account deposits—all of which help a bank's fraud department. A subset of artificial intelligence is machine learning, which refers to the concept that computer programs can automatically learn from and adapt to new data without being assisted by humans. Other examples of machines with artificial intelligence include computers that play chess and self-driving cars. Strong artificial intelligence systems are systems that carry on the tasks considered to be human-like. Other arguments debate the ethics of artificial intelligence and whether intelligent systems such as robots should be treated with the same rights as humans. Self-driving cars may remove the need for taxis and car-share programs, while manufacturers may easily replace human labor with machines, making people's skills more obsolete. The goals of artificial intelligence include mimicking human cognitive activity. Another contentious issue many people have with artificial intelligence is how it may affect human employment. When most people hear the term artificial intelligence, the first thing they usually think of is robots. The ideal characteristic of artificial intelligence is its ability to rationalize and take actions that have the best chance of achieving a specific goal.\n"
     ]
    },
    {
     "data": {
      "text/html": [
       "<div>\n",
       "<style scoped>\n",
       "    .dataframe tbody tr th:only-of-type {\n",
       "        vertical-align: middle;\n",
       "    }\n",
       "\n",
       "    .dataframe tbody tr th {\n",
       "        vertical-align: top;\n",
       "    }\n",
       "\n",
       "    .dataframe thead th {\n",
       "        text-align: right;\n",
       "    }\n",
       "</style>\n",
       "<table border=\"1\" class=\"dataframe\">\n",
       "  <thead>\n",
       "    <tr style=\"text-align: right;\">\n",
       "      <th></th>\n",
       "      <th></th>\n",
       "      <th>Raw-Text</th>\n",
       "      <th>Summarised-Text</th>\n",
       "    </tr>\n",
       "  </thead>\n",
       "  <tbody>\n",
       "    <tr>\n",
       "      <th>0</th>\n",
       "      <td>Number of Sentences</td>\n",
       "      <td>44</td>\n",
       "      <td>13</td>\n",
       "    </tr>\n",
       "    <tr>\n",
       "      <th>1</th>\n",
       "      <td>Number of Words</td>\n",
       "      <td>942</td>\n",
       "      <td>335</td>\n",
       "    </tr>\n",
       "  </tbody>\n",
       "</table>\n",
       "</div>"
      ],
      "text/plain": [
       "                        Raw-Text  Summarised-Text\n",
       "0  Number of Sentences        44               13\n",
       "1      Number of Words       942              335"
      ]
     },
     "execution_count": 18,
     "metadata": {},
     "output_type": "execute_result"
    }
   ],
   "source": [
    "# Join sentences\n",
    "Final_Summary = ' '.join(summary)\n",
    "\n",
    "# Print the Summarised-Text with Reduction Percentage\n",
    "print('###### Below Summarised-Text is {:.2f}% of the given Raw-Text.\\n'\n",
    "                                          .format(len(sent_tokenize(Final_Summary)) / len(sent_tokenize(RAW_Data)) * 100))\n",
    "print(Final_Summary)\n",
    "\n",
    "# Comparison Between Summarised-Text with the Raw-Text\n",
    "Comparison_Table= pd.DataFrame({' ' : ['Number of Sentences','Number of Words'],\n",
    "                                'Raw-Text' : [ len(sent_tokenize(RAW_Data)) , len(word_tokenize(RAW_Data)) ] , \n",
    "                            'Summarised-Text' : [ len(sent_tokenize(Final_Summary)) , len(word_tokenize(Final_Summary)) ] })\n",
    "Comparison_Table"
   ]
  },
  {
   "cell_type": "markdown",
   "metadata": {},
   "source": [
    " "
   ]
  },
  {
   "cell_type": "markdown",
   "metadata": {},
   "source": [
    " "
   ]
  },
  {
   "cell_type": "markdown",
   "metadata": {},
   "source": [
    " "
   ]
  },
  {
   "cell_type": "markdown",
   "metadata": {},
   "source": [
    " "
   ]
  },
  {
   "cell_type": "markdown",
   "metadata": {},
   "source": [
    " "
   ]
  },
  {
   "cell_type": "markdown",
   "metadata": {},
   "source": [
    "&emsp;&emsp;&emsp; &emsp;&emsp;&emsp;&emsp;&emsp;&emsp;&emsp;&emsp;&emsp;&emsp;&emsp;&emsp;&emsp;&emsp;&emsp; &emsp;&emsp; &emsp;&emsp;&emsp;&emsp;&emsp;&emsp;&emsp;&emsp;&emsp;&emsp;&emsp; &emsp;&emsp;&emsp;&emsp;&emsp;&emsp;&emsp; &emsp;&emsp; &emsp;&emsp;&emsp;&emsp;&emsp; &emsp;&emsp;&emsp;&emsp;&emsp;&emsp;&emsp;&emsp;&emsp;&emsp;&emsp;&emsp;&emsp;Pranab Kumar Paul."
   ]
  }
 ],
 "metadata": {
  "kernelspec": {
   "display_name": "Python 3",
   "language": "python",
   "name": "python3"
  },
  "language_info": {
   "codemirror_mode": {
    "name": "ipython",
    "version": 3
   },
   "file_extension": ".py",
   "mimetype": "text/x-python",
   "name": "python",
   "nbconvert_exporter": "python",
   "pygments_lexer": "ipython3",
   "version": "3.8.3"
  }
 },
 "nbformat": 4,
 "nbformat_minor": 4
}
